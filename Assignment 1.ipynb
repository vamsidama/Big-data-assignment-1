{
  "nbformat": 4,
  "nbformat_minor": 0,
  "metadata": {
    "colab": {
      "provenance": []
    },
    "kernelspec": {
      "name": "python3",
      "display_name": "Python 3"
    },
    "language_info": {
      "name": "python"
    }
  },
  "cells": [
    {
      "cell_type": "code",
      "execution_count": 5,
      "metadata": {
        "colab": {
          "base_uri": "https://localhost:8080/"
        },
        "id": "V0RNXMx22yzW",
        "outputId": "da60a731-5c7f-4429-b1f6-827ff90a867f"
      },
      "outputs": [
        {
          "output_type": "stream",
          "name": "stdout",
          "text": [
            "Enter the word: python\n",
            "nhtyp\n"
          ]
        }
      ],
      "source": [
        "# Task 5a\n",
        "chars = list(input(\"Enter the word python: \"))\n",
        "del chars[4]\n",
        "del chars[4]\n",
        "chars.reverse()\n",
        "print(\"\".join(chars))\n"
      ]
    },
    {
      "cell_type": "code",
      "source": [
        "# Task 5b\n",
        "a = int(input(\"Enter first number: \"))\n",
        "b = int(input(\"Enter second number: \"))\n",
        "\n",
        "print(f\"Addition: {a + b}\")\n",
        "print(f\"Subtraction: {a - b}\")\n",
        "print(f\"Multiplication: {a * b}\")\n",
        "print(f\"Division: {a / b if b != 0 else 'undefined (division by zero)'}\")\n"
      ],
      "metadata": {
        "colab": {
          "base_uri": "https://localhost:8080/"
        },
        "id": "XNxYD-nu4uMB",
        "outputId": "8780051a-5d00-4c06-b559-06a87f66c6f8"
      },
      "execution_count": 6,
      "outputs": [
        {
          "output_type": "stream",
          "name": "stdout",
          "text": [
            "Enter first number: 24\n",
            "Enter second number: 45\n",
            "Addition: 69\n",
            "Subtraction: -21\n",
            "Multiplication: 1080\n",
            "Division: 0.5333333333333333\n"
          ]
        }
      ]
    },
    {
      "cell_type": "code",
      "source": [
        "# Task 6\n",
        "sentence = input(\"Enter a sentence: \")\n",
        "updated_sentence = sentence.replace(\"python\", \"pythons\")\n",
        "print(updated_sentence)\n"
      ],
      "metadata": {
        "colab": {
          "base_uri": "https://localhost:8080/"
        },
        "id": "_SSS-tAI436o",
        "outputId": "0fd909ec-8a0c-43c5-c4a5-7d4dcc67b154"
      },
      "execution_count": 7,
      "outputs": [
        {
          "output_type": "stream",
          "name": "stdout",
          "text": [
            "Enter a sentence: python\n",
            "pythons\n"
          ]
        }
      ]
    },
    {
      "cell_type": "code",
      "source": [
        "# Task 7\n",
        "score = float(input(\"Enter your class score: \"))\n",
        "\n",
        "if score >= 90:\n",
        "    grade = 'A'\n",
        "elif score >= 80:\n",
        "    grade = 'B'\n",
        "elif score >= 70:\n",
        "    grade = 'C'\n",
        "elif score >= 60:\n",
        "    grade = 'D'\n",
        "else:\n",
        "    grade = 'F'\n",
        "\n",
        "print(f\"Your grade is: {grade}\")\n"
      ],
      "metadata": {
        "colab": {
          "base_uri": "https://localhost:8080/"
        },
        "id": "EryeX-zj5G7R",
        "outputId": "55322dd1-6a8a-455a-8ee3-efcd5a6a457d"
      },
      "execution_count": 8,
      "outputs": [
        {
          "output_type": "stream",
          "name": "stdout",
          "text": [
            "Enter your class score: 89\n",
            "Your grade is: B\n"
          ]
        }
      ]
    },
    {
      "cell_type": "code",
      "source": [
        "# Task 8\n",
        "x = [23, 'Python', 23.98]\n",
        "print(x)\n",
        "print([type(i) for i in x])\n"
      ],
      "metadata": {
        "colab": {
          "base_uri": "https://localhost:8080/"
        },
        "id": "nU0hjAzw5OWF",
        "outputId": "b23e8a69-fd71-4e72-f919-ab6a0649dc81"
      },
      "execution_count": 9,
      "outputs": [
        {
          "output_type": "stream",
          "name": "stdout",
          "text": [
            "[23, 'Python', 23.98]\n",
            "[<class 'int'>, <class 'str'>, <class 'float'>]\n"
          ]
        }
      ]
    },
    {
      "cell_type": "code",
      "source": [
        "# Task 9\n",
        "IT_companies = {'Facebook', 'Google', 'Microsoft', 'Apple', 'IBM', 'Oracle', 'Amazon'}\n",
        "A = {19, 22, 24, 20, 25, 26}\n",
        "B = {19, 22, 20, 25, 26, 24, 28, 27}\n",
        "age = [22, 19, 24, 25, 26, 24, 25, 24]\n",
        "\n",
        "# Length of IT_companies\n",
        "print(\"Length:\", len(IT_companies))\n",
        "\n",
        "# Add Twitter\n",
        "IT_companies.add(\"Twitter\")\n",
        "\n",
        "# Insert multiple\n",
        "IT_companies.update(['Tesla', 'Netflix', 'Adobe'])\n",
        "\n",
        "# Remove a company\n",
        "IT_companies.remove(\"IBM\")\n",
        "\n",
        "\n",
        "IT_companies.discard(\"NonExistingCompany\")\n",
        "#IT_companies.remove(\"NonExistingCompany\")\n",
        "\n",
        "# Join A and B\n",
        "print(\"A union B:\", A.union(B))\n",
        "\n",
        "# A ∩ B\n",
        "print(\"A intersection B:\", A.intersection(B))\n",
        "\n",
        "# A subset of B?\n",
        "print(\"Is A subset of B?\", A.issubset(B))\n",
        "\n",
        "# Are A and B disjoint?\n",
        "print(\"Are A and B disjoint?\", A.isdisjoint(B))\n",
        "\n",
        "# A with B, B with A\n",
        "print(\"A union B:\", A | B)\n",
        "print(\"B union A:\", B | A)\n",
        "\n",
        "# Symmetric difference\n",
        "print(\"Symmetric difference:\", A.symmetric_difference(B))\n",
        "\n",
        "# Delete sets\n",
        "del A\n",
        "del B\n",
        "\n",
        "# Convert age list to set\n",
        "age_set = set(age)\n",
        "print(\"Length of age list:\", len(age))\n",
        "print(\"Length of age set:\", len(age_set))\n"
      ],
      "metadata": {
        "colab": {
          "base_uri": "https://localhost:8080/"
        },
        "id": "40-ITJ0Z5eay",
        "outputId": "0ec58ade-99be-438c-b984-31b68a9f8b23"
      },
      "execution_count": 11,
      "outputs": [
        {
          "output_type": "stream",
          "name": "stdout",
          "text": [
            "Length: 7\n",
            "A union B: {19, 20, 22, 24, 25, 26, 27, 28}\n",
            "A intersection B: {19, 20, 22, 24, 25, 26}\n",
            "Is A subset of B? True\n",
            "Are A and B disjoint? False\n",
            "A union B: {19, 20, 22, 24, 25, 26, 27, 28}\n",
            "B union A: {19, 20, 22, 24, 25, 26, 27, 28}\n",
            "Symmetric difference: {27, 28}\n",
            "Length of age list: 8\n",
            "Length of age set: 5\n"
          ]
        }
      ]
    },
    {
      "cell_type": "markdown",
      "source": [
        " Remove vs Discard\n",
        "\n",
        " remove() throws error if not present\n",
        "\n",
        "  discard() doesn't"
      ],
      "metadata": {
        "id": "GxDW03qh6B1I"
      }
    }
  ]
}